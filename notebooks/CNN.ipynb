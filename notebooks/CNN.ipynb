{
 "cells": [
  {
   "cell_type": "code",
   "execution_count": 1,
   "id": "c4c4a1f2-2050-4ecd-bdac-5a12a2771986",
   "metadata": {
    "tags": []
   },
   "outputs": [],
   "source": [
    "import numpy as np\n",
    "import torch\n",
    "import torch.nn as nn\n",
    "import torch.nn.functional as F\n",
    "import torchvision\n",
    "import torch.optim as optim\n",
    "import matplotlib.pyplot as plt\n",
    "\n",
    "import project_path # So that we can import JankAI\n",
    "from JankAI.cnn import Conv2dFunctionWrapped, MaxPooling"
   ]
  },
  {
   "cell_type": "code",
   "execution_count": 2,
   "id": "7baf2f25-359d-4fd6-9742-121f42666db3",
   "metadata": {
    "tags": []
   },
   "outputs": [
    {
     "data": {
      "text/plain": [
       "device(type='cuda')"
      ]
     },
     "execution_count": 2,
     "metadata": {},
     "output_type": "execute_result"
    }
   ],
   "source": [
    "device = torch.device('cuda' if torch.cuda.is_available() else 'cpu')\n",
    "device"
   ]
  },
  {
   "cell_type": "code",
   "execution_count": 3,
   "id": "763faeae-35ba-4c9a-97af-626be710f536",
   "metadata": {},
   "outputs": [],
   "source": [
    "class JankAICNN(nn.Module):\n",
    "    def __init__(self):\n",
    "        super().__init__()\n",
    "        self.conv1 = Conv2dFunctionWrapped(10, kernel_size=5)\n",
    "        #self.conv1 = Conv2d(10, kernel_size=5)\n",
    "        # (28x28) gets convolved down to (24x24) x 10 channels\n",
    "        self.pooling = MaxPooling(4)\n",
    "        # Then max pooling drops down to (6x6) x 10 channels\n",
    "        self.dropout = nn.Dropout2d()\n",
    "        self.fc1 = nn.Linear(6 * 6 * 10, 10)\n",
    "        # Want 10 outputs\n",
    "        self.log_softmax = nn.LogSoftmax(dim=1)\n",
    "\n",
    "    def forward(self, x):\n",
    "        x = x.squeeze()\n",
    "        x = F.relu(self.conv1(x))\n",
    "        x = self.pooling(x)\n",
    "        x = x.view(-1, 6 * 6 * 10)\n",
    "        x = self.dropout(x)\n",
    "        x = self.fc1(x)\n",
    "        x = self.log_softmax(x)\n",
    "        return x\n"
   ]
  },
  {
   "cell_type": "code",
   "execution_count": 4,
   "id": "9aeaad28-6a92-4c55-a848-a7eea01572a7",
   "metadata": {},
   "outputs": [
    {
     "data": {
      "text/plain": [
       "JankAICNN(\n",
       "  (conv1): Conv2dFunctionWrapped()\n",
       "  (pooling): MaxPooling()\n",
       "  (dropout): Dropout2d(p=0.5, inplace=False)\n",
       "  (fc1): Linear(in_features=360, out_features=10, bias=True)\n",
       "  (log_softmax): LogSoftmax(dim=1)\n",
       ")"
      ]
     },
     "execution_count": 4,
     "metadata": {},
     "output_type": "execute_result"
    }
   ],
   "source": [
    "network = JankAICNN()\n",
    "network= network.to(device)\n",
    "network"
   ]
  },
  {
   "cell_type": "code",
   "execution_count": 5,
   "id": "c15bb362-fa18-40d2-9efb-84880d791a78",
   "metadata": {},
   "outputs": [],
   "source": [
    "train_batch_size=32\n",
    "test_batch_size=1000\n",
    "n_epochs = 10\n",
    "log_interval = 100\n",
    "\n",
    "train_loader = torch.utils.data.DataLoader(\n",
    "    torchvision.datasets.MNIST(\n",
    "        train=True,\n",
    "        root=\"../data\",\n",
    "        download=True,\n",
    "        transform=torchvision.transforms.ToTensor(),\n",
    "    ),\n",
    "    batch_size=train_batch_size,\n",
    ")\n",
    "\n",
    "test_loader = torch.utils.data.DataLoader(\n",
    "    torchvision.datasets.MNIST(\n",
    "        train=False,\n",
    "        root=\"../data\",\n",
    "        download=True,\n",
    "        transform=torchvision.transforms.ToTensor(),\n",
    "    ),\n",
    "    batch_size=test_batch_size,\n",
    ")\n",
    "\n",
    "optimizer = optim.SGD(network.parameters(), lr=0.01, momentum=0.5)"
   ]
  },
  {
   "cell_type": "code",
   "execution_count": 6,
   "id": "cc03bfa4-ab84-4b36-a881-1b0471977246",
   "metadata": {},
   "outputs": [],
   "source": [
    "def train(epoch):\n",
    "    network.train()\n",
    "    for batch_idx, (data, target) in enumerate(train_loader):\n",
    "        data, target = data.to(device), target.to(device)\n",
    "        optimizer.zero_grad()\n",
    "        output = network(data)\n",
    "        loss = F.nll_loss(output, target, reduction=\"mean\")\n",
    "        loss.backward()\n",
    "        optimizer.step()\n",
    "        if batch_idx % log_interval == 0:\n",
    "            percentage_complete = 100.0 * batch_idx/len(train_loader)\n",
    "            print(\n",
    "                f\"Epoch {epoch} ({percentage_complete:.2f}%)\\tLoss:{loss.item():.6f}\"\n",
    "            )\n",
    "\n",
    "\n",
    "def test():\n",
    "    network.eval()\n",
    "    test_loss = 0\n",
    "    correct = 0\n",
    "    with torch.no_grad():\n",
    "        for data, target in test_loader:\n",
    "            data, target = data.to(device), target.to(device)\n",
    "            output = network(data)\n",
    "            test_loss += F.nll_loss(output, target, reduction=\"mean\").item()\n",
    "            pred = output.data.max(1, keepdim=True)[1]\n",
    "            correct += pred.eq(target.data.view_as(pred)).sum()\n",
    "    test_loss /= len(test_loader.dataset)\n",
    "    accuracy_percentage = 100.0 * correct / len(test_loader.dataset)\n",
    "    print(\n",
    "        f\"\\nTest set: Avg. loss: {test_loss:.6f}, Accuracy: {correct}/{len(test_loader.dataset)} ({accuracy_percentage:.2f}%)\\n\"\n",
    "    )\n"
   ]
  },
  {
   "cell_type": "code",
   "execution_count": 7,
   "id": "b8fb16ba-835b-486f-a90a-adfa8352e277",
   "metadata": {
    "tags": []
   },
   "outputs": [
    {
     "name": "stderr",
     "output_type": "stream",
     "text": [
      "/home/tom/.local/lib/python3.11/site-packages/torch/nn/functional.py:1331: UserWarning: dropout2d: Received a 2-D input to dropout2d, which is deprecated and will result in an error in a future release. To retain the behavior and silence this warning, please use dropout instead. Note that dropout2d exists to provide channel-wise dropout on inputs with 2 spatial dimensions, a channel dimension, and an optional batch dimension (i.e. 3D or 4D inputs).\n",
      "  warnings.warn(warn_msg)\n"
     ]
    },
    {
     "name": "stdout",
     "output_type": "stream",
     "text": [
      "ℙ(0)=0.10339   ℙ(1)=0.09130   ℙ(2)=0.09432   ℙ(3)=0.10414   ℙ(4)=0.10679   ℙ(5)=0.10336   ℙ(6)=0.11270   ℙ(7)=0.09345   ℙ(8)=0.08719   ℙ(9)=0.10337   "
     ]
    },
    {
     "data": {
      "image/png": "[encoded data removed]",
      "text/plain": [
       "<Figure size 640x480 with 1 Axes>"
      ]
     },
     "metadata": {},
     "output_type": "display_data"
    }
   ],
   "source": [
    "network.eval()\n",
    "for idx, (data, target) in enumerate(test_loader):\n",
    "    if idx == 1:\n",
    "        out_data = data.to(device)\n",
    "        out_target = target.to(device)\n",
    "        out_pred = network(out_data)\n",
    "sample_idx = 1\n",
    "plt.imshow(out_data[sample_idx,:,:].cpu().squeeze())\n",
    "prediction = torch.exp(out_pred[sample_idx,:]).cpu()\n",
    "for idx, prob in enumerate(prediction.tolist()):\n",
    "    print(f\"ℙ({idx})={prob:.5f}\", end = \"   \")"
   ]
  },
  {
   "cell_type": "code",
   "execution_count": 8,
   "id": "2ba504b1-3229-4866-ae1b-ec30e594ac5e",
   "metadata": {},
   "outputs": [
    {
     "data": {
      "image/png": "[encoded data removed]",
      "text/plain": [
       "<Figure size 2000x20000 with 10 Axes>"
      ]
     },
     "metadata": {},
     "output_type": "display_data"
    }
   ],
   "source": [
    "fig, ax = plt.subplots(1,10, figsize=(20, 200))\n",
    "for i in range(10):\n",
    "    ax[i].imshow(network.conv1.kernels[i,:,:].cpu().detach().squeeze())"
   ]
  },
  {
   "cell_type": "code",
   "execution_count": 9,
   "id": "a9ff5556-2768-4fa8-9930-75883ff25c63",
   "metadata": {
    "tags": []
   },
   "outputs": [
    {
     "name": "stdout",
     "output_type": "stream",
     "text": [
      "\n",
      "Test set: Avg. loss: 0.002304, Accuracy: 949/10000 (9.49%)\n",
      "\n",
      "Epoch 1 (0.00%)\tLoss:2.315018\n",
      "Epoch 1 (5.33%)\tLoss:2.195066\n",
      "Epoch 1 (10.67%)\tLoss:1.590152\n",
      "Epoch 1 (16.00%)\tLoss:0.928249\n",
      "Epoch 1 (21.33%)\tLoss:0.866735\n",
      "Epoch 1 (26.67%)\tLoss:1.414774\n",
      "Epoch 1 (32.00%)\tLoss:0.612049\n",
      "Epoch 1 (37.33%)\tLoss:0.724789\n",
      "Epoch 1 (42.67%)\tLoss:0.732679\n",
      "Epoch 1 (48.00%)\tLoss:0.492647\n",
      "Epoch 1 (53.33%)\tLoss:0.836311\n",
      "Epoch 1 (58.67%)\tLoss:0.479070\n",
      "Epoch 1 (64.00%)\tLoss:0.769536\n",
      "Epoch 1 (69.33%)\tLoss:0.610459\n",
      "Epoch 1 (74.67%)\tLoss:0.474383\n",
      "Epoch 1 (80.00%)\tLoss:0.503624\n",
      "Epoch 1 (85.33%)\tLoss:0.366585\n",
      "Epoch 1 (90.67%)\tLoss:0.602464\n",
      "Epoch 1 (96.00%)\tLoss:0.611886\n",
      "\n",
      "Test set: Avg. loss: 0.000267, Accuracy: 9295/10000 (92.95%)\n",
      "\n",
      "Epoch 2 (0.00%)\tLoss:0.603982\n",
      "Epoch 2 (5.33%)\tLoss:0.512375\n",
      "Epoch 2 (10.67%)\tLoss:0.593176\n",
      "Epoch 2 (16.00%)\tLoss:0.358895\n",
      "Epoch 2 (21.33%)\tLoss:0.302018\n",
      "Epoch 2 (26.67%)\tLoss:0.670923\n",
      "Epoch 2 (32.00%)\tLoss:0.213550\n",
      "Epoch 2 (37.33%)\tLoss:0.366864\n",
      "Epoch 2 (42.67%)\tLoss:0.361051\n",
      "Epoch 2 (48.00%)\tLoss:0.355215\n",
      "Epoch 2 (53.33%)\tLoss:0.465961\n",
      "Epoch 2 (58.67%)\tLoss:0.265220\n",
      "Epoch 2 (64.00%)\tLoss:0.371067\n",
      "Epoch 2 (69.33%)\tLoss:0.521781\n",
      "Epoch 2 (74.67%)\tLoss:0.285361\n",
      "Epoch 2 (80.00%)\tLoss:0.402552\n",
      "Epoch 2 (85.33%)\tLoss:0.292542\n",
      "Epoch 2 (90.67%)\tLoss:0.240654\n",
      "Epoch 2 (96.00%)\tLoss:0.379362\n",
      "\n",
      "Test set: Avg. loss: 0.000174, Accuracy: 9541/10000 (95.41%)\n",
      "\n",
      "Epoch 3 (0.00%)\tLoss:0.260261\n",
      "Epoch 3 (5.33%)\tLoss:0.314568\n",
      "Epoch 3 (10.67%)\tLoss:0.297934\n",
      "Epoch 3 (16.00%)\tLoss:0.623438\n",
      "Epoch 3 (21.33%)\tLoss:0.174806\n",
      "Epoch 3 (26.67%)\tLoss:0.485895\n",
      "Epoch 3 (32.00%)\tLoss:0.155658\n",
      "Epoch 3 (37.33%)\tLoss:0.158335\n",
      "Epoch 3 (42.67%)\tLoss:0.332496\n",
      "Epoch 3 (48.00%)\tLoss:0.176747\n",
      "Epoch 3 (53.33%)\tLoss:0.259046\n",
      "Epoch 3 (58.67%)\tLoss:0.232124\n",
      "Epoch 3 (64.00%)\tLoss:0.328598\n",
      "Epoch 3 (69.33%)\tLoss:0.386743\n",
      "Epoch 3 (74.67%)\tLoss:0.229114\n",
      "Epoch 3 (80.00%)\tLoss:0.248099\n",
      "Epoch 3 (85.33%)\tLoss:0.308663\n",
      "Epoch 3 (90.67%)\tLoss:0.212769\n",
      "Epoch 3 (96.00%)\tLoss:0.416998\n",
      "\n",
      "Test set: Avg. loss: 0.000145, Accuracy: 9596/10000 (95.96%)\n",
      "\n",
      "Epoch 4 (0.00%)\tLoss:0.191854\n",
      "Epoch 4 (5.33%)\tLoss:0.221657\n",
      "Epoch 4 (10.67%)\tLoss:0.358701\n",
      "Epoch 4 (16.00%)\tLoss:0.438933\n",
      "Epoch 4 (21.33%)\tLoss:0.146652\n",
      "Epoch 4 (26.67%)\tLoss:0.556685\n",
      "Epoch 4 (32.00%)\tLoss:0.108585\n",
      "Epoch 4 (37.33%)\tLoss:0.153316\n",
      "Epoch 4 (42.67%)\tLoss:0.066771\n",
      "Epoch 4 (48.00%)\tLoss:0.354779\n",
      "Epoch 4 (53.33%)\tLoss:0.284389\n",
      "Epoch 4 (58.67%)\tLoss:0.219564\n",
      "Epoch 4 (64.00%)\tLoss:0.277511\n",
      "Epoch 4 (69.33%)\tLoss:0.349167\n",
      "Epoch 4 (74.67%)\tLoss:0.117610\n",
      "Epoch 4 (80.00%)\tLoss:0.301779\n",
      "Epoch 4 (85.33%)\tLoss:0.259197\n",
      "Epoch 4 (90.67%)\tLoss:0.268566\n",
      "Epoch 4 (96.00%)\tLoss:0.244888\n",
      "\n",
      "Test set: Avg. loss: 0.000128, Accuracy: 9653/10000 (96.53%)\n",
      "\n",
      "Epoch 5 (0.00%)\tLoss:0.154651\n",
      "Epoch 5 (5.33%)\tLoss:0.305477\n",
      "Epoch 5 (10.67%)\tLoss:0.212453\n",
      "Epoch 5 (16.00%)\tLoss:0.265472\n",
      "Epoch 5 (21.33%)\tLoss:0.117361\n",
      "Epoch 5 (26.67%)\tLoss:0.280774\n",
      "Epoch 5 (32.00%)\tLoss:0.375429\n",
      "Epoch 5 (37.33%)\tLoss:0.214487\n",
      "Epoch 5 (42.67%)\tLoss:0.112314\n",
      "Epoch 5 (48.00%)\tLoss:0.225845\n",
      "Epoch 5 (53.33%)\tLoss:0.254346\n",
      "Epoch 5 (58.67%)\tLoss:0.102404\n",
      "Epoch 5 (64.00%)\tLoss:0.259819\n",
      "Epoch 5 (69.33%)\tLoss:0.558047\n",
      "Epoch 5 (74.67%)\tLoss:0.097663\n",
      "Epoch 5 (80.00%)\tLoss:0.147926\n",
      "Epoch 5 (85.33%)\tLoss:0.170756\n",
      "Epoch 5 (90.67%)\tLoss:0.138433\n",
      "Epoch 5 (96.00%)\tLoss:0.407358\n",
      "\n",
      "Test set: Avg. loss: 0.000121, Accuracy: 9649/10000 (96.49%)\n",
      "\n",
      "Epoch 6 (0.00%)\tLoss:0.125725\n",
      "Epoch 6 (5.33%)\tLoss:0.141295\n",
      "Epoch 6 (10.67%)\tLoss:0.206059\n",
      "Epoch 6 (16.00%)\tLoss:0.283801\n",
      "Epoch 6 (21.33%)\tLoss:0.202909\n",
      "Epoch 6 (26.67%)\tLoss:0.644805\n",
      "Epoch 6 (32.00%)\tLoss:0.159702\n",
      "Epoch 6 (37.33%)\tLoss:0.130772\n",
      "Epoch 6 (42.67%)\tLoss:0.191211\n",
      "Epoch 6 (48.00%)\tLoss:0.154728\n",
      "Epoch 6 (53.33%)\tLoss:0.219520\n",
      "Epoch 6 (58.67%)\tLoss:0.197382\n",
      "Epoch 6 (64.00%)\tLoss:0.238238\n",
      "Epoch 6 (69.33%)\tLoss:0.430712\n",
      "Epoch 6 (74.67%)\tLoss:0.125356\n",
      "Epoch 6 (80.00%)\tLoss:0.215109\n",
      "Epoch 6 (85.33%)\tLoss:0.135197\n",
      "Epoch 6 (90.67%)\tLoss:0.081447\n",
      "Epoch 6 (96.00%)\tLoss:0.175141\n",
      "\n",
      "Test set: Avg. loss: 0.000111, Accuracy: 9695/10000 (96.95%)\n",
      "\n",
      "Epoch 7 (0.00%)\tLoss:0.177357\n",
      "Epoch 7 (5.33%)\tLoss:0.097249\n",
      "Epoch 7 (10.67%)\tLoss:0.138168\n",
      "Epoch 7 (16.00%)\tLoss:0.283090\n",
      "Epoch 7 (21.33%)\tLoss:0.159272\n",
      "Epoch 7 (26.67%)\tLoss:0.328050\n",
      "Epoch 7 (32.00%)\tLoss:0.114316\n",
      "Epoch 7 (37.33%)\tLoss:0.086197\n",
      "Epoch 7 (42.67%)\tLoss:0.142782\n",
      "Epoch 7 (48.00%)\tLoss:0.161574\n",
      "Epoch 7 (53.33%)\tLoss:0.334530\n",
      "Epoch 7 (58.67%)\tLoss:0.198689\n",
      "Epoch 7 (64.00%)\tLoss:0.217561\n",
      "Epoch 7 (69.33%)\tLoss:0.451556\n",
      "Epoch 7 (74.67%)\tLoss:0.130910\n",
      "Epoch 7 (80.00%)\tLoss:0.220403\n",
      "Epoch 7 (85.33%)\tLoss:0.128393\n",
      "Epoch 7 (90.67%)\tLoss:0.218637\n",
      "Epoch 7 (96.00%)\tLoss:0.238010\n",
      "\n",
      "Test set: Avg. loss: 0.000106, Accuracy: 9703/10000 (97.03%)\n",
      "\n",
      "Epoch 8 (0.00%)\tLoss:0.196477\n",
      "Epoch 8 (5.33%)\tLoss:0.138723\n",
      "Epoch 8 (10.67%)\tLoss:0.273843\n",
      "Epoch 8 (16.00%)\tLoss:0.443790\n",
      "Epoch 8 (21.33%)\tLoss:0.081436\n",
      "Epoch 8 (26.67%)\tLoss:0.443668\n",
      "Epoch 8 (32.00%)\tLoss:0.230641\n",
      "Epoch 8 (37.33%)\tLoss:0.134647\n",
      "Epoch 8 (42.67%)\tLoss:0.075831\n",
      "Epoch 8 (48.00%)\tLoss:0.164043\n",
      "Epoch 8 (53.33%)\tLoss:0.189764\n",
      "Epoch 8 (58.67%)\tLoss:0.183158\n",
      "Epoch 8 (64.00%)\tLoss:0.288156\n",
      "Epoch 8 (69.33%)\tLoss:0.321072\n",
      "Epoch 8 (74.67%)\tLoss:0.217413\n",
      "Epoch 8 (80.00%)\tLoss:0.081372\n",
      "Epoch 8 (85.33%)\tLoss:0.130598\n",
      "Epoch 8 (90.67%)\tLoss:0.141656\n",
      "Epoch 8 (96.00%)\tLoss:0.163029\n",
      "\n",
      "Test set: Avg. loss: 0.000102, Accuracy: 9723/10000 (97.23%)\n",
      "\n",
      "Epoch 9 (0.00%)\tLoss:0.145740\n",
      "Epoch 9 (5.33%)\tLoss:0.175191\n",
      "Epoch 9 (10.67%)\tLoss:0.169549\n",
      "Epoch 9 (16.00%)\tLoss:0.469664\n",
      "Epoch 9 (21.33%)\tLoss:0.285688\n",
      "Epoch 9 (26.67%)\tLoss:0.234227\n",
      "Epoch 9 (32.00%)\tLoss:0.130966\n",
      "Epoch 9 (37.33%)\tLoss:0.085935\n",
      "Epoch 9 (42.67%)\tLoss:0.142199\n",
      "Epoch 9 (48.00%)\tLoss:0.080318\n",
      "Epoch 9 (53.33%)\tLoss:0.168103\n",
      "Epoch 9 (58.67%)\tLoss:0.079665\n",
      "Epoch 9 (64.00%)\tLoss:0.295580\n",
      "Epoch 9 (69.33%)\tLoss:0.354160\n",
      "Epoch 9 (74.67%)\tLoss:0.076305\n",
      "Epoch 9 (80.00%)\tLoss:0.169782\n",
      "Epoch 9 (85.33%)\tLoss:0.151194\n",
      "Epoch 9 (90.67%)\tLoss:0.166354\n",
      "Epoch 9 (96.00%)\tLoss:0.265687\n",
      "\n",
      "Test set: Avg. loss: 0.000098, Accuracy: 9737/10000 (97.37%)\n",
      "\n",
      "Epoch 10 (0.00%)\tLoss:0.062832\n",
      "Epoch 10 (5.33%)\tLoss:0.179487\n",
      "Epoch 10 (10.67%)\tLoss:0.252155\n",
      "Epoch 10 (16.00%)\tLoss:0.321789\n",
      "Epoch 10 (21.33%)\tLoss:0.079811\n",
      "Epoch 10 (26.67%)\tLoss:0.310661\n",
      "Epoch 10 (32.00%)\tLoss:0.144271\n",
      "Epoch 10 (37.33%)\tLoss:0.088939\n",
      "Epoch 10 (42.67%)\tLoss:0.058121\n",
      "Epoch 10 (48.00%)\tLoss:0.112884\n",
      "Epoch 10 (53.33%)\tLoss:0.187077\n",
      "Epoch 10 (58.67%)\tLoss:0.177552\n",
      "Epoch 10 (64.00%)\tLoss:0.137080\n",
      "Epoch 10 (69.33%)\tLoss:0.223213\n",
      "Epoch 10 (74.67%)\tLoss:0.122214\n",
      "Epoch 10 (80.00%)\tLoss:0.308354\n",
      "Epoch 10 (85.33%)\tLoss:0.091374\n",
      "Epoch 10 (90.67%)\tLoss:0.155475\n",
      "Epoch 10 (96.00%)\tLoss:0.308807\n",
      "\n",
      "Test set: Avg. loss: 0.000093, Accuracy: 9741/10000 (97.41%)\n",
      "\n"
     ]
    }
   ],
   "source": [
    "test()\n",
    "for epoch in range(1, n_epochs + 1):\n",
    "    train(epoch)\n",
    "    test()"
   ]
  },
  {
   "cell_type": "code",
   "execution_count": 10,
   "id": "0e8a8c0b-340f-432c-bb70-b15d57257741",
   "metadata": {
    "tags": []
   },
   "outputs": [
    {
     "name": "stdout",
     "output_type": "stream",
     "text": [
      "ℙ(0)=0.99452   ℙ(1)=0.00000   ℙ(2)=0.00021   ℙ(3)=0.00004   ℙ(4)=0.00003   ℙ(5)=0.00001   ℙ(6)=0.00436   ℙ(7)=0.00000   ℙ(8)=0.00054   ℙ(9)=0.00029   "
     ]
    },
    {
     "data": {
      "image/png": "[encoded data removed]",
      "text/plain": [
       "<Figure size 640x480 with 1 Axes>"
      ]
     },
     "metadata": {},
     "output_type": "display_data"
    }
   ],
   "source": [
    "network.eval()\n",
    "for idx, (data, target) in enumerate(test_loader):\n",
    "    if idx == 1:\n",
    "        out_data = data.to(device)\n",
    "        out_target = target.to(device)\n",
    "        out_pred = network(out_data)\n",
    "sample_idx = 1\n",
    "plt.imshow(out_data[sample_idx,:,:].cpu().squeeze())\n",
    "prediction = torch.exp(out_pred[sample_idx,:]).cpu()\n",
    "for idx, prob in enumerate(prediction.tolist()):\n",
    "    print(f\"ℙ({idx})={prob:.5f}\", end = \"   \")"
   ]
  },
  {
   "cell_type": "code",
   "execution_count": 11,
   "id": "f28c3ef8-a9fc-43f0-8702-74d9418aeb84",
   "metadata": {
    "tags": []
   },
   "outputs": [
    {
     "data": {
      "image/png": "[encoded data removed]",
      "text/plain": [
       "<Figure size 2000x20000 with 10 Axes>"
      ]
     },
     "metadata": {},
     "output_type": "display_data"
    }
   ],
   "source": [
    "fig, ax = plt.subplots(1,10, figsize=(20, 200))\n",
    "for i in range(10):\n",
    "    ax[i].imshow(network.conv1.kernels[i,:,:].cpu().detach().squeeze())"
   ]
  },
  {
   "cell_type": "code",
   "execution_count": 12,
   "id": "69321286-f8e4-4c3d-821b-24d79b13678f",
   "metadata": {
    "tags": []
   },
   "outputs": [
    {
     "name": "stdout",
     "output_type": "stream",
     "text": [
      "torch.Size([10, 5, 5])\n",
      "torch.Size([10, 360])\n"
     ]
    }
   ],
   "source": [
    "print(network.conv1.kernels.shape)\n",
    "print(network.fc1.weight.shape)"
   ]
  }
 ],
 "metadata": {
  "kernelspec": {
   "display_name": "Python 3 (ipykernel)",
   "language": "python",
   "name": "python3"
  },
  "language_info": {
   "codemirror_mode": {
    "name": "ipython",
    "version": 3
   },
   "file_extension": ".py",
   "mimetype": "text/x-python",
   "name": "python",
   "nbconvert_exporter": "python",
   "pygments_lexer": "ipython3",
   "version": "3.11.3"
  }
 },
 "nbformat": 4,
 "nbformat_minor": 5
}
