{
 "cells": [
  {
   "cell_type": "code",
   "execution_count": 1,
   "id": "c4c4a1f2-2050-4ecd-bdac-5a12a2771986",
   "metadata": {
    "tags": []
   },
   "outputs": [],
   "source": [
    "import numpy as np\n",
    "import torch\n",
    "import torch.nn as nn\n",
    "import torch.nn.functional as F\n",
    "import torchvision\n",
    "import torch.optim as optim\n",
    "import matplotlib.pyplot as plt\n",
    "\n",
    "from JankAI.cnn import Conv2dFunctionWrapped, MaxPooling"
   ]
  },
  {
   "cell_type": "code",
   "execution_count": 2,
   "id": "7baf2f25-359d-4fd6-9742-121f42666db3",
   "metadata": {
    "tags": []
   },
   "outputs": [
    {
     "data": {
      "text/plain": [
       "device(type='cpu')"
      ]
     },
     "execution_count": 2,
     "metadata": {},
     "output_type": "execute_result"
    }
   ],
   "source": [
    "device = torch.device('cuda' if torch.cuda.is_available() else 'cpu')\n",
    "device"
   ]
  },
  {
   "cell_type": "code",
   "execution_count": 3,
   "id": "763faeae-35ba-4c9a-97af-626be710f536",
   "metadata": {},
   "outputs": [],
   "source": [
    "class JankAICNN(nn.Module):\n",
    "    def __init__(self):\n",
    "        super().__init__()\n",
    "        self.conv1 = Conv2dFunctionWrapped(10, kernel_size=5)\n",
    "        #self.conv1 = Conv2d(10, kernel_size=5)\n",
    "        # (28x28) gets convolved down to (24x24) x 10 channels\n",
    "        self.pooling = MaxPooling(4)\n",
    "        # Then max pooling drops down to (6x6) x 10 channels\n",
    "        self.dropout = nn.Dropout2d()\n",
    "        self.fc1 = nn.Linear(6 * 6 * 10, 10)\n",
    "        # Want 10 outputs\n",
    "        self.log_softmax = nn.LogSoftmax(dim=1)\n",
    "\n",
    "    def forward(self, x):\n",
    "        x = x.squeeze()\n",
    "        x = F.relu(self.conv1(x))\n",
    "        x = self.pooling(x)\n",
    "        x = x.view(-1, 6 * 6 * 10)\n",
    "        x = self.dropout(x)\n",
    "        x = self.fc1(x)\n",
    "        x = self.log_softmax(x)\n",
    "        return x\n"
   ]
  },
  {
   "cell_type": "code",
   "execution_count": 4,
   "id": "9aeaad28-6a92-4c55-a848-a7eea01572a7",
   "metadata": {},
   "outputs": [
    {
     "data": {
      "text/plain": [
       "JankAICNN(\n",
       "  (conv1): Conv2dFunctionWrapped()\n",
       "  (pooling): MaxPooling()\n",
       "  (dropout): Dropout2d(p=0.5, inplace=False)\n",
       "  (fc1): Linear(in_features=360, out_features=10, bias=True)\n",
       "  (log_softmax): LogSoftmax(dim=1)\n",
       ")"
      ]
     },
     "execution_count": 4,
     "metadata": {},
     "output_type": "execute_result"
    }
   ],
   "source": [
    "network = JankAICNN()\n",
    "network= network.to(device)\n",
    "network"
   ]
  },
  {
   "cell_type": "code",
   "execution_count": 5,
   "id": "c15bb362-fa18-40d2-9efb-84880d791a78",
   "metadata": {},
   "outputs": [],
   "source": [
    "train_batch_size=64\n",
    "test_batch_size=1000\n",
    "n_epochs = 2\n",
    "log_interval = 100\n",
    "\n",
    "train_loader = torch.utils.data.DataLoader(\n",
    "    torchvision.datasets.MNIST(\n",
    "        train=True,\n",
    "        root=\"./data\",\n",
    "        download=True,\n",
    "        transform=torchvision.transforms.ToTensor(),\n",
    "    ),\n",
    "    batch_size=train_batch_size,\n",
    ")\n",
    "\n",
    "test_loader = torch.utils.data.DataLoader(\n",
    "    torchvision.datasets.MNIST(\n",
    "        train=False,\n",
    "        root=\"./data\",\n",
    "        download=True,\n",
    "        transform=torchvision.transforms.ToTensor(),\n",
    "    ),\n",
    "    batch_size=test_batch_size,\n",
    ")\n",
    "\n",
    "optimizer = optim.SGD(network.parameters(), lr=0.01, momentum=0.5)"
   ]
  },
  {
   "cell_type": "code",
   "execution_count": 6,
   "id": "cc03bfa4-ab84-4b36-a881-1b0471977246",
   "metadata": {},
   "outputs": [],
   "source": [
    "def train(epoch):\n",
    "    network.train()\n",
    "    for batch_idx, (data, target) in enumerate(train_loader):\n",
    "        data, target = data.to(device), target.to(device)\n",
    "        optimizer.zero_grad()\n",
    "        output = network(data)\n",
    "        loss = F.nll_loss(output, target, reduction=\"mean\")\n",
    "        loss.backward()\n",
    "        optimizer.step()\n",
    "        if batch_idx % log_interval == 0:\n",
    "            percentage_complete = 100.0 * batch_idx/len(train_loader)\n",
    "            print(\n",
    "                f\"Epoch {epoch} ({percentage_complete:.2f}%)\\tLoss:{loss.item():.6f}\"\n",
    "            )\n",
    "\n",
    "\n",
    "def test():\n",
    "    network.eval()\n",
    "    test_loss = 0\n",
    "    correct = 0\n",
    "    with torch.no_grad():\n",
    "        for data, target in test_loader:\n",
    "            data, target = data.to(device), target.to(device)\n",
    "            output = network(data)\n",
    "            test_loss += F.nll_loss(output, target, reduction=\"mean\").item()\n",
    "            pred = output.data.max(1, keepdim=True)[1]\n",
    "            correct += pred.eq(target.data.view_as(pred)).sum()\n",
    "    test_loss /= len(test_loader.dataset)\n",
    "    accuracy_percentage = 100.0 * correct / len(test_loader.dataset)\n",
    "    print(\n",
    "        f\"\\nTest set: Avg. loss: {test_loss:.6f}, Accuracy: {correct}/{len(test_loader.dataset)} ({accuracy_percentage:.2f}%)\\n\"\n",
    "    )\n"
   ]
  },
  {
   "cell_type": "code",
   "execution_count": 7,
   "id": "b8fb16ba-835b-486f-a90a-adfa8352e277",
   "metadata": {
    "tags": []
   },
   "outputs": [
    {
     "name": "stderr",
     "output_type": "stream",
     "text": [
      "/home/tom/.local/lib/python3.10/site-packages/torch/nn/functional.py:1331: UserWarning: dropout2d: Received a 2-D input to dropout2d, which is deprecated and will result in an error in a future release. To retain the behavior and silence this warning, please use dropout instead. Note that dropout2d exists to provide channel-wise dropout on inputs with 2 spatial dimensions, a channel dimension, and an optional batch dimension (i.e. 3D or 4D inputs).\n",
      "  warnings.warn(warn_msg)\n"
     ]
    },
    {
     "name": "stdout",
     "output_type": "stream",
     "text": [
      "ℙ(0)=0.10457   ℙ(1)=0.10016   ℙ(2)=0.11268   ℙ(3)=0.09190   ℙ(4)=0.09890   ℙ(5)=0.09056   ℙ(6)=0.10485   ℙ(7)=0.10047   ℙ(8)=0.09766   ℙ(9)=0.09827   "
     ]
    },
    {
     "data": {
      "image/png": "[encoded data removed]",
      "text/plain": [
       "<Figure size 640x480 with 1 Axes>"
      ]
     },
     "metadata": {},
     "output_type": "display_data"
    }
   ],
   "source": [
    "network.eval()\n",
    "for idx, (data, target) in enumerate(test_loader):\n",
    "    if idx == 1:\n",
    "        out_data = data.to(device)\n",
    "        out_target = target.to(device)\n",
    "        out_pred = network(out_data)\n",
    "sample_idx = 1\n",
    "plt.imshow(out_data[sample_idx,:,:].cpu().squeeze())\n",
    "prediction = torch.exp(out_pred[sample_idx,:]).cpu()\n",
    "for idx, prob in enumerate(prediction.tolist()):\n",
    "    print(f\"ℙ({idx})={prob:.5f}\", end = \"   \")"
   ]
  },
  {
   "cell_type": "code",
   "execution_count": 8,
   "id": "2ba504b1-3229-4866-ae1b-ec30e594ac5e",
   "metadata": {},
   "outputs": [
    {
     "data": {
      "image/png": "[encoded data removed]",
      "text/plain": [
       "<Figure size 2000x20000 with 10 Axes>"
      ]
     },
     "metadata": {},
     "output_type": "display_data"
    }
   ],
   "source": [
    "fig, ax = plt.subplots(1,10, figsize=(20, 200))\n",
    "for i in range(10):\n",
    "    ax[i].imshow(network.conv1.kernels[i,:,:].cpu().detach().squeeze())"
   ]
  },
  {
   "cell_type": "code",
   "execution_count": 9,
   "id": "a9ff5556-2768-4fa8-9930-75883ff25c63",
   "metadata": {
    "tags": []
   },
   "outputs": [
    {
     "name": "stdout",
     "output_type": "stream",
     "text": [
      "\n",
      "Test set: Avg. loss: 0.002302, Accuracy: 955/10000 (9.55%)\n",
      "\n",
      "Epoch 1 (0.00%)\tLoss:2.307521\n",
      "Epoch 1 (10.66%)\tLoss:2.046403\n",
      "Epoch 1 (21.32%)\tLoss:1.194665\n",
      "Epoch 1 (31.98%)\tLoss:1.019599\n",
      "Epoch 1 (42.64%)\tLoss:0.868598\n",
      "Epoch 1 (53.30%)\tLoss:0.845306\n",
      "Epoch 1 (63.97%)\tLoss:0.767548\n",
      "Epoch 1 (74.63%)\tLoss:0.736823\n",
      "Epoch 1 (85.29%)\tLoss:0.850752\n",
      "Epoch 1 (95.95%)\tLoss:0.697854\n",
      "\n",
      "Test set: Avg. loss: 0.000421, Accuracy: 8866/10000 (88.66%)\n",
      "\n",
      "Epoch 2 (0.00%)\tLoss:0.651126\n",
      "Epoch 2 (10.66%)\tLoss:0.566993\n",
      "Epoch 2 (21.32%)\tLoss:0.373628\n",
      "Epoch 2 (31.98%)\tLoss:0.582221\n",
      "Epoch 2 (42.64%)\tLoss:0.462042\n",
      "Epoch 2 (53.30%)\tLoss:0.565873\n",
      "Epoch 2 (63.97%)\tLoss:0.558629\n",
      "Epoch 2 (74.63%)\tLoss:0.414113\n",
      "Epoch 2 (85.29%)\tLoss:0.597892\n",
      "Epoch 2 (95.95%)\tLoss:0.487088\n",
      "\n",
      "Test set: Avg. loss: 0.000265, Accuracy: 9329/10000 (93.29%)\n",
      "\n"
     ]
    }
   ],
   "source": [
    "test()\n",
    "for epoch in range(1, n_epochs + 1):\n",
    "    train(epoch)\n",
    "    test()"
   ]
  },
  {
   "cell_type": "code",
   "execution_count": 10,
   "id": "0e8a8c0b-340f-432c-bb70-b15d57257741",
   "metadata": {
    "tags": []
   },
   "outputs": [
    {
     "name": "stdout",
     "output_type": "stream",
     "text": [
      "ℙ(0)=0.98214   ℙ(1)=0.00001   ℙ(2)=0.00057   ℙ(3)=0.00053   ℙ(4)=0.00015   ℙ(5)=0.00108   ℙ(6)=0.01070   ℙ(7)=0.00004   ℙ(8)=0.00326   ℙ(9)=0.00152   "
     ]
    },
    {
     "data": {
      "image/png": "[encoded data removed]",
      "text/plain": [
       "<Figure size 640x480 with 1 Axes>"
      ]
     },
     "metadata": {},
     "output_type": "display_data"
    }
   ],
   "source": [
    "network.eval()\n",
    "for idx, (data, target) in enumerate(test_loader):\n",
    "    if idx == 1:\n",
    "        out_data = data.to(device)\n",
    "        out_target = target.to(device)\n",
    "        out_pred = network(out_data)\n",
    "sample_idx = 1\n",
    "plt.imshow(out_data[sample_idx,:,:].cpu().squeeze())\n",
    "prediction = torch.exp(out_pred[sample_idx,:]).cpu()\n",
    "for idx, prob in enumerate(prediction.tolist()):\n",
    "    print(f\"ℙ({idx})={prob:.5f}\", end = \"   \")"
   ]
  },
  {
   "cell_type": "code",
   "execution_count": 11,
   "id": "f28c3ef8-a9fc-43f0-8702-74d9418aeb84",
   "metadata": {
    "tags": []
   },
   "outputs": [
    {
     "data": {
      "image/png": "[encoded data removed]",
      "text/plain": [
       "<Figure size 2000x20000 with 10 Axes>"
      ]
     },
     "metadata": {},
     "output_type": "display_data"
    }
   ],
   "source": [
    "fig, ax = plt.subplots(1,10, figsize=(20, 200))\n",
    "for i in range(10):\n",
    "    ax[i].imshow(network.conv1.kernels[i,:,:].cpu().detach().squeeze())"
   ]
  },
  {
   "cell_type": "code",
   "execution_count": 12,
   "id": "69321286-f8e4-4c3d-821b-24d79b13678f",
   "metadata": {
    "tags": []
   },
   "outputs": [
    {
     "name": "stdout",
     "output_type": "stream",
     "text": [
      "torch.Size([10, 5, 5])\n",
      "torch.Size([10, 360])\n"
     ]
    }
   ],
   "source": [
    "print(network.conv1.kernels.shape)\n",
    "print(network.fc1.weight.shape)"
   ]
  }
 ],
 "metadata": {
  "kernelspec": {
   "display_name": "Python 3 (ipykernel)",
   "language": "python",
   "name": "python3"
  },
  "language_info": {
   "codemirror_mode": {
    "name": "ipython",
    "version": 3
   },
   "file_extension": ".py",
   "mimetype": "text/x-python",
   "name": "python",
   "nbconvert_exporter": "python",
   "pygments_lexer": "ipython3",
   "version": "3.10.10"
  }
 },
 "nbformat": 4,
 "nbformat_minor": 5
}
