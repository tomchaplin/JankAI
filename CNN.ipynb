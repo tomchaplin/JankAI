{
 "cells": [
  {
   "cell_type": "code",
   "execution_count": 1,
   "id": "269cb4a5-3fff-4b35-99ee-93b968f916f1",
   "metadata": {
    "tags": []
   },
   "outputs": [],
   "source": [
    "import numpy as np\n",
    "import torch\n",
    "import torch.nn as nn\n",
    "import torch.nn.functional as F\n",
    "import torchvision\n",
    "import torch.optim as optim\n",
    "import matplotlib.pyplot as plt\n",
    "\n",
    "# Based on https://towardsdatascience.com/building-a-convolutional-neural-network-from-scratch-using-numpy-a22808a00a40\n",
    "# If you would like to implement backward as well\n",
    "# then you should implement the convolution layer as a torch.autograd.Function\n",
    "# and then wrap it up in a nn.Module to specify which inputs are the parameters\n",
    "# see https://pytorch.org/docs/stable/notes/extending.html\n",
    "\n",
    "class JankAI_Conv2d(nn.Module):\n",
    "    def __init__(self, kernel_num, kernel_size):\n",
    "        super().__init__()\n",
    "        self.kernel_num = kernel_num\n",
    "        self.kernel_size = kernel_size\n",
    "        kernels = torch.Tensor(kernel_num, kernel_size, kernel_size)\n",
    "        nn.init.normal_(kernels, mean=0.0, std=1.0 / (kernel_size**2))\n",
    "        # Wrap in nn.Parameter to let PyTorch know it needs updating\n",
    "        self.kernels = nn.Parameter(kernels)\n",
    "\n",
    "    def patches_generator(self, image_batch):\n",
    "        batch_size, image_h, image_w = image_batch.shape\n",
    "        for h in range(image_h - self.kernel_size + 1):\n",
    "            for w in range(image_w - self.kernel_size + 1):\n",
    "                patch = image_batch[\n",
    "                    :, h : (h + self.kernel_size), w : (w + self.kernel_size)\n",
    "                ]\n",
    "                yield patch, h, w\n",
    "\n",
    "    def forward(self, x):\n",
    "        batch_size,  image_h, image_w = x.shape\n",
    "        conv_output = torch.zeros([\n",
    "            batch_size,\n",
    "            self.kernel_num,\n",
    "            image_h - self.kernel_size + 1,\n",
    "            image_w - self.kernel_size + 1,\n",
    "        ], device=x.device)\n",
    "        for patch, h, w in self.patches_generator(x):\n",
    "            patch = torch.unsqueeze(patch, dim=1)\n",
    "            # patch.shape == (batch_size, 1, self.kernel_size, self.kernel_size)\n",
    "            # self.kernel.shape == (self.kernel_num, self.kernel_size, self.kernel_size)\n",
    "            # So multiplication broadcasts over batch_size and kernel_num\n",
    "            mult = patch * self.kernels\n",
    "            conv_output[:, :, h, w] = mult.sum(dim=(2, 3))\n",
    "        return conv_output\n",
    "    \n",
    "class JankAI_MaxPooling(nn.Module):\n",
    "    def __init__(self, kernel_size):\n",
    "        super().__init__()\n",
    "        self.kernel_size = kernel_size\n",
    "    \n",
    "    def patches_generator(self, image_batch):\n",
    "        batch_size, n_channels, image_h, image_w = image_batch.shape\n",
    "        output_h = image_h // self.kernel_size\n",
    "        output_w = image_w // self.kernel_size\n",
    "        for h in range(output_h):\n",
    "            for w in range(output_w):\n",
    "                start_h = h * self.kernel_size\n",
    "                end_h = start_h + self.kernel_size\n",
    "                start_w = w * self.kernel_size\n",
    "                end_w = start_w + self.kernel_size\n",
    "                patch = image_batch[:, :, start_h:end_h, start_w:end_w]\n",
    "                yield patch, h, w\n",
    "        \n",
    "    def forward(self, x):\n",
    "        batch_size, n_channels, image_h, image_w = x.shape\n",
    "        output_h = image_h // self.kernel_size\n",
    "        output_w = image_w // self.kernel_size\n",
    "        output = torch.zeros([\n",
    "            batch_size, n_channels, output_h, output_w\n",
    "        ], device=x.device)\n",
    "        for patch, h, w in self.patches_generator(x):\n",
    "             output[:,:, h, w] = torch.amax(patch, dim=(2, 3))\n",
    "        return output"
   ]
  },
  {
   "cell_type": "code",
   "execution_count": 2,
   "id": "7baf2f25-359d-4fd6-9742-121f42666db3",
   "metadata": {
    "tags": []
   },
   "outputs": [
    {
     "data": {
      "text/plain": [
       "device(type='cuda')"
      ]
     },
     "execution_count": 2,
     "metadata": {},
     "output_type": "execute_result"
    }
   ],
   "source": [
    "device = torch.device('cuda' if torch.cuda.is_available() else 'cpu')\n",
    "device"
   ]
  },
  {
   "cell_type": "code",
   "execution_count": 3,
   "id": "763faeae-35ba-4c9a-97af-626be710f536",
   "metadata": {},
   "outputs": [],
   "source": [
    "class TomNet(nn.Module):\n",
    "    def __init__(self):\n",
    "        super(TomNet, self).__init__()\n",
    "        self.conv1 = JankAI_Conv2d(10, kernel_size=5)\n",
    "        # (28x28) gets convolved down to (24x24) x 10 channels\n",
    "        self.pooling = JankAI_MaxPooling(4)\n",
    "        # Then max pooling drops down to (6x6) x 10 channels\n",
    "        self.dropout = nn.Dropout2d()\n",
    "        self.fc1 = nn.Linear(6 * 6 * 10, 10)\n",
    "        # Want 10 outputs\n",
    "        self.log_softmax = nn.LogSoftmax(dim=1)\n",
    "\n",
    "    def forward(self, x):\n",
    "        x = x.squeeze()\n",
    "        x = F.relu(self.conv1(x))\n",
    "        x = self.pooling(x)\n",
    "        x = x.view(-1, 6 * 6 * 10)\n",
    "        x = self.dropout(x)\n",
    "        x = self.fc1(x)\n",
    "        x = self.log_softmax(x)\n",
    "        return x\n"
   ]
  },
  {
   "cell_type": "code",
   "execution_count": 4,
   "id": "9aeaad28-6a92-4c55-a848-a7eea01572a7",
   "metadata": {},
   "outputs": [
    {
     "data": {
      "text/plain": [
       "TomNet(\n",
       "  (conv1): JankAI_Conv2d()\n",
       "  (pooling): JankAI_MaxPooling()\n",
       "  (dropout): Dropout2d(p=0.5, inplace=False)\n",
       "  (fc1): Linear(in_features=360, out_features=10, bias=True)\n",
       "  (log_softmax): LogSoftmax(dim=1)\n",
       ")"
      ]
     },
     "execution_count": 4,
     "metadata": {},
     "output_type": "execute_result"
    }
   ],
   "source": [
    "network = TomNet()\n",
    "network= network.cuda()\n",
    "network"
   ]
  },
  {
   "cell_type": "code",
   "execution_count": 5,
   "id": "c15bb362-fa18-40d2-9efb-84880d791a78",
   "metadata": {},
   "outputs": [],
   "source": [
    "train_batch_size=32\n",
    "test_batch_size=1000\n",
    "n_epochs = 5\n",
    "log_interval = 100\n",
    "\n",
    "train_loader = torch.utils.data.DataLoader(\n",
    "    torchvision.datasets.MNIST(\n",
    "        train=True,\n",
    "        root=\"./data\",\n",
    "        download=True,\n",
    "        transform=torchvision.transforms.ToTensor(),\n",
    "    ),\n",
    "    batch_size=train_batch_size,\n",
    ")\n",
    "\n",
    "test_loader = torch.utils.data.DataLoader(\n",
    "    torchvision.datasets.MNIST(\n",
    "        train=False,\n",
    "        root=\"./data\",\n",
    "        download=True,\n",
    "        transform=torchvision.transforms.ToTensor(),\n",
    "    ),\n",
    "    batch_size=test_batch_size,\n",
    ")\n",
    "\n",
    "optimizer = optim.SGD(network.parameters(), lr=0.01, momentum=0.5)"
   ]
  },
  {
   "cell_type": "code",
   "execution_count": 6,
   "id": "cc03bfa4-ab84-4b36-a881-1b0471977246",
   "metadata": {},
   "outputs": [],
   "source": [
    "def train(epoch):\n",
    "    network.train()\n",
    "    for batch_idx, (data, target) in enumerate(train_loader):\n",
    "        data, target = data.to(device), target.to(device)\n",
    "        optimizer.zero_grad()\n",
    "        output = network(data)\n",
    "        loss = F.nll_loss(output, target, reduction=\"mean\")\n",
    "        loss.backward()\n",
    "        optimizer.step()\n",
    "        if batch_idx % log_interval == 0:\n",
    "            percentage_complete = 100.0 * batch_idx/len(train_loader)\n",
    "            print(\n",
    "                f\"Epoch {epoch} ({percentage_complete:.2f}%)\\tLoss:{loss.item():.6f}\"\n",
    "            )\n",
    "\n",
    "\n",
    "def test():\n",
    "    network.eval()\n",
    "    test_loss = 0\n",
    "    correct = 0\n",
    "    with torch.no_grad():\n",
    "        for data, target in test_loader:\n",
    "            data, target = data.to(device), target.to(device)\n",
    "            output = network(data)\n",
    "            test_loss += F.nll_loss(output, target, reduction=\"mean\").item()\n",
    "            pred = output.data.max(1, keepdim=True)[1]\n",
    "            correct += pred.eq(target.data.view_as(pred)).sum()\n",
    "    test_loss /= len(test_loader.dataset)\n",
    "    accuracy_percentage = 100.0 * correct / len(test_loader.dataset)\n",
    "    print(\n",
    "        f\"\\nTest set: Avg. loss: {test_loss:.6f}, Accuracy: {correct}/{len(test_loader.dataset)} ({accuracy_percentage:.2f}%)\\n\"\n",
    "    )\n"
   ]
  },
  {
   "cell_type": "code",
   "execution_count": 7,
   "id": "b8fb16ba-835b-486f-a90a-adfa8352e277",
   "metadata": {
    "tags": []
   },
   "outputs": [
    {
     "name": "stderr",
     "output_type": "stream",
     "text": [
      "/home/tom/.local/lib/python3.11/site-packages/torch/nn/functional.py:1331: UserWarning: dropout2d: Received a 2-D input to dropout2d, which is deprecated and will result in an error in a future release. To retain the behavior and silence this warning, please use dropout instead. Note that dropout2d exists to provide channel-wise dropout on inputs with 2 spatial dimensions, a channel dimension, and an optional batch dimension (i.e. 3D or 4D inputs).\n",
      "  warnings.warn(warn_msg)\n"
     ]
    },
    {
     "name": "stdout",
     "output_type": "stream",
     "text": [
      "ℙ(0)=0.10394   ℙ(1)=0.11223   ℙ(2)=0.10202   ℙ(3)=0.09951   ℙ(4)=0.08844   ℙ(5)=0.10176   ℙ(6)=0.09606   ℙ(7)=0.09327   ℙ(8)=0.10560   ℙ(9)=0.09718   "
     ]
    },
    {
     "data": {
      "image/png": "[encoded data removed]",
      "text/plain": [
       "<Figure size 640x480 with 1 Axes>"
      ]
     },
     "metadata": {},
     "output_type": "display_data"
    }
   ],
   "source": [
    "network.eval()\n",
    "for idx, (data, target) in enumerate(test_loader):\n",
    "    if idx == 1:\n",
    "        out_data = data.to(device)\n",
    "        out_target = target.to(device)\n",
    "        out_pred = network(out_data)\n",
    "sample_idx = 1\n",
    "plt.imshow(out_data[sample_idx,:,:].cpu().squeeze())\n",
    "prediction = torch.exp(out_pred[sample_idx,:]).cpu()\n",
    "for idx, prob in enumerate(prediction.tolist()):\n",
    "    print(f\"ℙ({idx})={prob:.5f}\", end = \"   \")"
   ]
  },
  {
   "cell_type": "code",
   "execution_count": 8,
   "id": "2ba504b1-3229-4866-ae1b-ec30e594ac5e",
   "metadata": {},
   "outputs": [
    {
     "data": {
      "image/png": "[encoded data removed]",
      "text/plain": [
       "<Figure size 2000x20000 with 10 Axes>"
      ]
     },
     "metadata": {},
     "output_type": "display_data"
    }
   ],
   "source": [
    "fig, ax = plt.subplots(1,10, figsize=(20, 200))\n",
    "for i in range(10):\n",
    "    ax[i].imshow(network.conv1.kernels[i,:,:].cpu().detach().squeeze())"
   ]
  },
  {
   "cell_type": "code",
   "execution_count": 9,
   "id": "a9ff5556-2768-4fa8-9930-75883ff25c63",
   "metadata": {
    "tags": []
   },
   "outputs": [
    {
     "name": "stdout",
     "output_type": "stream",
     "text": [
      "\n",
      "Test set: Avg. loss: 0.002305, Accuracy: 1274/10000 (12.74%)\n",
      "\n",
      "Epoch 1 (0.00%)\tLoss:2.312787\n",
      "Epoch 1 (5.33%)\tLoss:2.219207\n",
      "Epoch 1 (10.67%)\tLoss:1.391615\n",
      "Epoch 1 (16.00%)\tLoss:0.753887\n",
      "Epoch 1 (21.33%)\tLoss:0.850346\n",
      "Epoch 1 (26.67%)\tLoss:1.105549\n",
      "Epoch 1 (32.00%)\tLoss:0.817573\n",
      "Epoch 1 (37.33%)\tLoss:0.559730\n",
      "Epoch 1 (42.67%)\tLoss:0.558137\n",
      "Epoch 1 (48.00%)\tLoss:0.442641\n",
      "Epoch 1 (53.33%)\tLoss:0.688377\n",
      "Epoch 1 (58.67%)\tLoss:0.421525\n",
      "Epoch 1 (64.00%)\tLoss:0.474318\n",
      "Epoch 1 (69.33%)\tLoss:0.726447\n",
      "Epoch 1 (74.67%)\tLoss:0.319127\n",
      "Epoch 1 (80.00%)\tLoss:0.675854\n",
      "Epoch 1 (85.33%)\tLoss:0.513294\n",
      "Epoch 1 (90.67%)\tLoss:0.446441\n",
      "Epoch 1 (96.00%)\tLoss:0.398092\n",
      "\n",
      "Test set: Avg. loss: 0.000273, Accuracy: 9272/10000 (92.72%)\n",
      "\n",
      "Epoch 2 (0.00%)\tLoss:0.432603\n",
      "Epoch 2 (5.33%)\tLoss:0.642303\n",
      "Epoch 2 (10.67%)\tLoss:0.597496\n",
      "Epoch 2 (16.00%)\tLoss:0.466716\n",
      "Epoch 2 (21.33%)\tLoss:0.218992\n",
      "Epoch 2 (26.67%)\tLoss:0.562405\n",
      "Epoch 2 (32.00%)\tLoss:0.282276\n",
      "Epoch 2 (37.33%)\tLoss:0.206948\n",
      "Epoch 2 (42.67%)\tLoss:0.283422\n",
      "Epoch 2 (48.00%)\tLoss:0.305052\n",
      "Epoch 2 (53.33%)\tLoss:0.412965\n",
      "Epoch 2 (58.67%)\tLoss:0.344774\n",
      "Epoch 2 (64.00%)\tLoss:0.248324\n",
      "Epoch 2 (69.33%)\tLoss:0.707447\n",
      "Epoch 2 (74.67%)\tLoss:0.204251\n",
      "Epoch 2 (80.00%)\tLoss:0.399366\n",
      "Epoch 2 (85.33%)\tLoss:0.312342\n",
      "Epoch 2 (90.67%)\tLoss:0.328839\n",
      "Epoch 2 (96.00%)\tLoss:0.419299\n",
      "\n",
      "Test set: Avg. loss: 0.000170, Accuracy: 9540/10000 (95.40%)\n",
      "\n",
      "Epoch 3 (0.00%)\tLoss:0.258289\n",
      "Epoch 3 (5.33%)\tLoss:0.261498\n",
      "Epoch 3 (10.67%)\tLoss:0.322782\n",
      "Epoch 3 (16.00%)\tLoss:0.519524\n",
      "Epoch 3 (21.33%)\tLoss:0.149169\n",
      "Epoch 3 (26.67%)\tLoss:0.396027\n",
      "Epoch 3 (32.00%)\tLoss:0.126561\n",
      "Epoch 3 (37.33%)\tLoss:0.194673\n",
      "Epoch 3 (42.67%)\tLoss:0.241450\n",
      "Epoch 3 (48.00%)\tLoss:0.365127\n",
      "Epoch 3 (53.33%)\tLoss:0.349002\n",
      "Epoch 3 (58.67%)\tLoss:0.213143\n",
      "Epoch 3 (64.00%)\tLoss:0.203851\n",
      "Epoch 3 (69.33%)\tLoss:0.542421\n",
      "Epoch 3 (74.67%)\tLoss:0.317563\n",
      "Epoch 3 (80.00%)\tLoss:0.295623\n",
      "Epoch 3 (85.33%)\tLoss:0.272154\n",
      "Epoch 3 (90.67%)\tLoss:0.115909\n",
      "Epoch 3 (96.00%)\tLoss:0.279056\n",
      "\n",
      "Test set: Avg. loss: 0.000134, Accuracy: 9633/10000 (96.33%)\n",
      "\n",
      "Epoch 4 (0.00%)\tLoss:0.180153\n",
      "Epoch 4 (5.33%)\tLoss:0.236363\n",
      "Epoch 4 (10.67%)\tLoss:0.343834\n",
      "Epoch 4 (16.00%)\tLoss:0.386514\n",
      "Epoch 4 (21.33%)\tLoss:0.179994\n",
      "Epoch 4 (26.67%)\tLoss:0.542241\n",
      "Epoch 4 (32.00%)\tLoss:0.137652\n",
      "Epoch 4 (37.33%)\tLoss:0.179370\n",
      "Epoch 4 (42.67%)\tLoss:0.163626\n",
      "Epoch 4 (48.00%)\tLoss:0.159465\n",
      "Epoch 4 (53.33%)\tLoss:0.220441\n",
      "Epoch 4 (58.67%)\tLoss:0.164122\n",
      "Epoch 4 (64.00%)\tLoss:0.286081\n",
      "Epoch 4 (69.33%)\tLoss:0.419869\n",
      "Epoch 4 (74.67%)\tLoss:0.170314\n",
      "Epoch 4 (80.00%)\tLoss:0.191777\n",
      "Epoch 4 (85.33%)\tLoss:0.196996\n",
      "Epoch 4 (90.67%)\tLoss:0.134129\n",
      "Epoch 4 (96.00%)\tLoss:0.272095\n",
      "\n",
      "Test set: Avg. loss: 0.000116, Accuracy: 9685/10000 (96.85%)\n",
      "\n",
      "Epoch 5 (0.00%)\tLoss:0.248552\n",
      "Epoch 5 (5.33%)\tLoss:0.231115\n",
      "Epoch 5 (10.67%)\tLoss:0.397206\n",
      "Epoch 5 (16.00%)\tLoss:0.252443\n",
      "Epoch 5 (21.33%)\tLoss:0.214485\n",
      "Epoch 5 (26.67%)\tLoss:0.257159\n",
      "Epoch 5 (32.00%)\tLoss:0.104170\n",
      "Epoch 5 (37.33%)\tLoss:0.152634\n",
      "Epoch 5 (42.67%)\tLoss:0.079404\n",
      "Epoch 5 (48.00%)\tLoss:0.192539\n",
      "Epoch 5 (53.33%)\tLoss:0.228239\n",
      "Epoch 5 (58.67%)\tLoss:0.115695\n",
      "Epoch 5 (64.00%)\tLoss:0.190846\n",
      "Epoch 5 (69.33%)\tLoss:0.405833\n",
      "Epoch 5 (74.67%)\tLoss:0.111652\n",
      "Epoch 5 (80.00%)\tLoss:0.253603\n",
      "Epoch 5 (85.33%)\tLoss:0.208600\n",
      "Epoch 5 (90.67%)\tLoss:0.146930\n",
      "Epoch 5 (96.00%)\tLoss:0.224496\n",
      "\n",
      "Test set: Avg. loss: 0.000108, Accuracy: 9686/10000 (96.86%)\n",
      "\n"
     ]
    }
   ],
   "source": [
    "test()\n",
    "for epoch in range(1, n_epochs + 1):\n",
    "    train(epoch)\n",
    "    test()"
   ]
  },
  {
   "cell_type": "code",
   "execution_count": 10,
   "id": "0e8a8c0b-340f-432c-bb70-b15d57257741",
   "metadata": {
    "tags": []
   },
   "outputs": [
    {
     "name": "stdout",
     "output_type": "stream",
     "text": [
      "ℙ(0)=0.99373   ℙ(1)=0.00000   ℙ(2)=0.00008   ℙ(3)=0.00002   ℙ(4)=0.00006   ℙ(5)=0.00010   ℙ(6)=0.00470   ℙ(7)=0.00000   ℙ(8)=0.00087   ℙ(9)=0.00043   "
     ]
    },
    {
     "data": {
      "image/png": "[encoded data removed]",
      "text/plain": [
       "<Figure size 640x480 with 1 Axes>"
      ]
     },
     "metadata": {},
     "output_type": "display_data"
    }
   ],
   "source": [
    "network.eval()\n",
    "for idx, (data, target) in enumerate(test_loader):\n",
    "    if idx == 1:\n",
    "        out_data = data.to(device)\n",
    "        out_target = target.to(device)\n",
    "        out_pred = network(out_data)\n",
    "sample_idx = 1\n",
    "plt.imshow(out_data[sample_idx,:,:].cpu().squeeze())\n",
    "prediction = torch.exp(out_pred[sample_idx,:]).cpu()\n",
    "for idx, prob in enumerate(prediction.tolist()):\n",
    "    print(f\"ℙ({idx})={prob:.5f}\", end = \"   \")"
   ]
  },
  {
   "cell_type": "code",
   "execution_count": 11,
   "id": "f28c3ef8-a9fc-43f0-8702-74d9418aeb84",
   "metadata": {
    "tags": []
   },
   "outputs": [
    {
     "data": {
      "image/png": "[encoded data removed]",
      "text/plain": [
       "<Figure size 2000x20000 with 10 Axes>"
      ]
     },
     "metadata": {},
     "output_type": "display_data"
    }
   ],
   "source": [
    "fig, ax = plt.subplots(1,10, figsize=(20, 200))\n",
    "for i in range(10):\n",
    "    ax[i].imshow(network.conv1.kernels[i,:,:].cpu().detach().squeeze())"
   ]
  },
  {
   "cell_type": "code",
   "execution_count": 12,
   "id": "69321286-f8e4-4c3d-821b-24d79b13678f",
   "metadata": {
    "tags": []
   },
   "outputs": [
    {
     "name": "stdout",
     "output_type": "stream",
     "text": [
      "torch.Size([10, 5, 5])\n",
      "torch.Size([10, 360])\n"
     ]
    }
   ],
   "source": [
    "print(network.conv1.kernels.shape)\n",
    "print(network.fc1.weight.shape)"
   ]
  }
 ],
 "metadata": {
  "kernelspec": {
   "display_name": "Python 3 (ipykernel)",
   "language": "python",
   "name": "python3"
  },
  "language_info": {
   "codemirror_mode": {
    "name": "ipython",
    "version": 3
   },
   "file_extension": ".py",
   "mimetype": "text/x-python",
   "name": "python",
   "nbconvert_exporter": "python",
   "pygments_lexer": "ipython3",
   "version": "3.11.3"
  }
 },
 "nbformat": 4,
 "nbformat_minor": 5
}
